{
 "cells": [
  {
   "cell_type": "code",
   "execution_count": 4,
   "metadata": {},
   "outputs": [
    {
     "name": "stdout",
     "output_type": "stream",
     "text": [
      "eligible\n"
     ]
    }
   ],
   "source": [
    "### Q1: Check givin age is more than 18 then print eligible else not eligible\n",
    "age =  int(input(\"enter age:\"))\n",
    "if age>18:\n",
    "    print(\"eligible\")\n",
    "else:\n",
    "    print(\"not eligible\")"
   ]
  },
  {
   "cell_type": "code",
   "execution_count": 5,
   "metadata": {},
   "outputs": [
    {
     "name": "stdout",
     "output_type": "stream",
     "text": [
      "palindrom\n"
     ]
    }
   ],
   "source": [
    "#palindrome\n",
    "stri = 'lool'\n",
    "if stri == stri[::-1]:\n",
    "    print(\"palindrom\")\n",
    "else:\n",
    "    print(\"not palindrom\")\n"
   ]
  },
  {
   "cell_type": "code",
   "execution_count": 7,
   "metadata": {},
   "outputs": [
    {
     "data": {
      "text/plain": [
       "1"
      ]
     },
     "execution_count": 7,
     "metadata": {},
     "output_type": "execute_result"
    }
   ],
   "source": [
    "121%10"
   ]
  },
  {
   "cell_type": "code",
   "execution_count": 9,
   "metadata": {},
   "outputs": [
    {
     "data": {
      "text/plain": [
       "12"
      ]
     },
     "execution_count": 9,
     "metadata": {},
     "output_type": "execute_result"
    }
   ],
   "source": [
    "121//10"
   ]
  },
  {
   "cell_type": "code",
   "execution_count": 10,
   "metadata": {},
   "outputs": [
    {
     "data": {
      "text/plain": [
       "1"
      ]
     },
     "execution_count": 10,
     "metadata": {},
     "output_type": "execute_result"
    }
   ],
   "source": [
    "1%10"
   ]
  },
  {
   "cell_type": "code",
   "execution_count": 16,
   "metadata": {},
   "outputs": [
    {
     "name": "stdout",
     "output_type": "stream",
     "text": [
      "n value: 1221\n",
      "digit = n%10 1\n",
      "reverse =  reverse*10 + digit: 1\n",
      "n = n//10 122\n",
      "*************************\n",
      "n value: 122\n",
      "digit = n%10 2\n",
      "reverse =  reverse*10 + digit: 12\n",
      "n = n//10 12\n",
      "*************************\n",
      "n value: 12\n",
      "digit = n%10 2\n",
      "reverse =  reverse*10 + digit: 122\n",
      "n = n//10 1\n",
      "*************************\n",
      "n value: 1\n",
      "digit = n%10 1\n",
      "reverse =  reverse*10 + digit: 1221\n",
      "n = n//10 0\n",
      "*************************\n",
      "palindrome\n"
     ]
    }
   ],
   "source": [
    "def palindrom(n):\n",
    "    original = n\n",
    "    reverse = 0\n",
    "    while n>0:\n",
    "        print(\"n value:\", n)\n",
    "        digit = n%10\n",
    "        print(\"digit = n%10\", digit)\n",
    "        reverse =  reverse*10 + digit\n",
    "        print(\"reverse =  reverse*10 + digit:\", reverse)\n",
    "        n = n//10\n",
    "        print(\"n = n//10\", n)\n",
    "        print(\"*************************\")\n",
    "    if original == reverse:\n",
    "        print(\"palindrome\")\n",
    "    else:\n",
    "        print(\"not palindrome\")\n",
    "\n",
    "palindrom(1221)\n"
   ]
  },
  {
   "cell_type": "code",
   "execution_count": 25,
   "metadata": {},
   "outputs": [
    {
     "name": "stdout",
     "output_type": "stream",
     "text": [
      "rem = n%10 : 1\n",
      "r = r*10+rem : 1\n",
      "n = n//10 : 199\n",
      "*****************\n",
      "rem = n%10 : 9\n",
      "r = r*10+rem : 19\n",
      "n = n//10 : 19\n",
      "*****************\n",
      "rem = n%10 : 9\n",
      "r = r*10+rem : 199\n",
      "n = n//10 : 1\n",
      "*****************\n",
      "rem = n%10 : 1\n",
      "r = r*10+rem : 1991\n",
      "n = n//10 : 0\n",
      "*****************\n",
      "palindrome\n"
     ]
    }
   ],
   "source": [
    "num =  1991\n",
    "n = num\n",
    "r = 0\n",
    "while n>0:\n",
    "    rem = n%10\n",
    "    print(\"rem = n%10 :\", rem)\n",
    "    r = r*10+rem\n",
    "    print(\"r = r*10+rem :\", r)\n",
    "    n = n//10\n",
    "    print(\"n = n//10 :\", n)\n",
    "    print(\"*****************\")\n",
    "if num == r:\n",
    "    print(\"palindrome\")\n",
    "else:\n",
    "    print(\"not palindrome\")\n"
   ]
  },
  {
   "cell_type": "code",
   "execution_count": 26,
   "metadata": {},
   "outputs": [
    {
     "name": "stdout",
     "output_type": "stream",
     "text": [
      "rem = n%10 : 1\n",
      "r = r*10+rem : 1\n",
      "n = n//10 : 199\n",
      "*****************\n",
      "rem = n%10 : 9\n",
      "r = r*10+rem : 19\n",
      "n = n//10 : 19\n",
      "*****************\n",
      "rem = n%10 : 9\n",
      "r = r*10+rem : 199\n",
      "n = n//10 : 1\n",
      "*****************\n",
      "rem = n%10 : 1\n",
      "r = r*10+rem : 1991\n",
      "n = n//10 : 0\n",
      "*****************\n",
      "palindrome\n"
     ]
    }
   ],
   "source": [
    "def my_palindrome(num):\n",
    "    n = num\n",
    "    r = 0\n",
    "    while n>0:\n",
    "        rem = n%10\n",
    "        print(\"rem = n%10 :\", rem)\n",
    "        r = r*10+rem\n",
    "        print(\"r = r*10+rem :\", r)\n",
    "        n = n//10\n",
    "        print(\"n = n//10 :\", n)\n",
    "        print(\"*****************\")\n",
    "    if num == r:\n",
    "        print(\"palindrome\")\n",
    "    else:\n",
    "        print(\"not palindrome\")\n",
    "\n",
    "my_palindrome(1991)\n"
   ]
  },
  {
   "cell_type": "code",
   "execution_count": null,
   "metadata": {},
   "outputs": [],
   "source": []
  },
  {
   "cell_type": "code",
   "execution_count": null,
   "metadata": {},
   "outputs": [],
   "source": []
  },
  {
   "cell_type": "code",
   "execution_count": null,
   "metadata": {},
   "outputs": [],
   "source": []
  },
  {
   "cell_type": "code",
   "execution_count": null,
   "metadata": {},
   "outputs": [
    {
     "name": "stdout",
     "output_type": "stream",
     "text": [
      "22 navya\n",
      "23 kumar\n"
     ]
    }
   ],
   "source": [
    "#ZIP()\n",
    "l = [22,23,24]\n",
    "l2 = ['navya','kumar']\n",
    "# for i in range(len(l2)):\n",
    "#     print(f\" {l2[i]} roll number is {l[i]}\")\n",
    "\n",
    "\n",
    "\n",
    "for i,j in zip(l,l2):\n",
    "    print(i,j)\n",
    "\n",
    "#zip() is used to combine two list and give a tuple as result,\n",
    "# it is usful when you want itarate two lists at a time in a single for loop \n",
    "# it will combined as tuple for a two lists based upon the which ever the list is having minimum lenght"
   ]
  },
  {
   "cell_type": "code",
   "execution_count": 24,
   "metadata": {},
   "outputs": [],
   "source": [
    "#MAP()\n",
    "def mul_of_two(n):\n",
    "    return n*2\n"
   ]
  },
  {
   "cell_type": "code",
   "execution_count": 25,
   "metadata": {},
   "outputs": [
    {
     "data": {
      "text/plain": [
       "8"
      ]
     },
     "execution_count": 25,
     "metadata": {},
     "output_type": "execute_result"
    }
   ],
   "source": [
    "mul_of_two(4)"
   ]
  },
  {
   "cell_type": "code",
   "execution_count": null,
   "metadata": {},
   "outputs": [],
   "source": [
    "updated_list = []\n",
    "for i in l:\n",
    "    updated_list.append(mul_of_two(i))\n",
    "\n",
    "#list comprehensive\n",
    "updated_list = [mul_of_two(i) for i in l]"
   ]
  },
  {
   "cell_type": "code",
   "execution_count": 29,
   "metadata": {},
   "outputs": [
    {
     "data": {
      "text/plain": [
       "[44, 46, 48]"
      ]
     },
     "execution_count": 29,
     "metadata": {},
     "output_type": "execute_result"
    }
   ],
   "source": [
    "updated_list"
   ]
  },
  {
   "cell_type": "code",
   "execution_count": null,
   "metadata": {},
   "outputs": [
    {
     "data": {
      "text/plain": [
       "[44, 46, 48]"
      ]
     },
     "execution_count": 30,
     "metadata": {},
     "output_type": "execute_result"
    }
   ],
   "source": [
    "list(map(mul_of_two,l))\n",
    "\n"
   ]
  },
  {
   "cell_type": "code",
   "execution_count": null,
   "metadata": {},
   "outputs": [],
   "source": [
    "#LAMBDA()\n",
    "def adding(x,y):\n",
    "    return x+y"
   ]
  },
  {
   "cell_type": "code",
   "execution_count": 37,
   "metadata": {},
   "outputs": [],
   "source": [
    "adding = lambda x,y : x+y"
   ]
  },
  {
   "cell_type": "code",
   "execution_count": 38,
   "metadata": {},
   "outputs": [
    {
     "data": {
      "text/plain": [
       "12"
      ]
     },
     "execution_count": 38,
     "metadata": {},
     "output_type": "execute_result"
    }
   ],
   "source": [
    "adding(10,2)"
   ]
  },
  {
   "cell_type": "code",
   "execution_count": null,
   "metadata": {},
   "outputs": [
    {
     "name": "stdout",
     "output_type": "stream",
     "text": [
      "24\n"
     ]
    }
   ],
   "source": [
    "#reduce() applies the lambda cummulatively to the list\n",
    "from functools import reduce\n",
    "list2 = [1,2,3,4]\n",
    "k = reduce(lambda x,y: x*y , list2)\n",
    "print(k)\n"
   ]
  },
  {
   "cell_type": "code",
   "execution_count": 40,
   "metadata": {},
   "outputs": [
    {
     "name": "stdout",
     "output_type": "stream",
     "text": [
      "0 navya\n",
      "1 kumar\n",
      "2 simla\n"
     ]
    }
   ],
   "source": [
    "#emumarate()\n",
    "list1 = ['navya','kumar', 'simla']\n",
    "for index, i in enumerate(list1):\n",
    "    print(index,i)"
   ]
  },
  {
   "cell_type": "code",
   "execution_count": 44,
   "metadata": {},
   "outputs": [
    {
     "name": "stdout",
     "output_type": "stream",
     "text": [
      "2\n",
      "4\n",
      "6\n",
      "8\n",
      "10\n"
     ]
    }
   ],
   "source": [
    "#filter()\n",
    "numbers = [1,2,3,4,5,6,7,8,9,10]\n",
    "for i in numbers:\n",
    "    if i%2 == 0:\n",
    "        print(i)    "
   ]
  },
  {
   "cell_type": "code",
   "execution_count": 53,
   "metadata": {},
   "outputs": [
    {
     "data": {
      "text/plain": [
       "[2, 4, 6, 8, 10]"
      ]
     },
     "execution_count": 53,
     "metadata": {},
     "output_type": "execute_result"
    }
   ],
   "source": [
    "list(filter(lambda x:x%2 == 0,numbers))\n"
   ]
  },
  {
   "cell_type": "code",
   "execution_count": 55,
   "metadata": {},
   "outputs": [
    {
     "data": {
      "text/plain": [
       "{'navya': 22, 'kumar': 23}"
      ]
     },
     "execution_count": 55,
     "metadata": {},
     "output_type": "execute_result"
    }
   ],
   "source": [
    "#dict comprehensive\n",
    "l = [22,23,24]\n",
    "l2 = ['navya','kumar']\n",
    "{key:value for key,value in zip(l2,l)}"
   ]
  },
  {
   "cell_type": "code",
   "execution_count": null,
   "metadata": {},
   "outputs": [],
   "source": []
  },
  {
   "cell_type": "code",
   "execution_count": null,
   "metadata": {},
   "outputs": [],
   "source": []
  }
 ],
 "metadata": {
  "kernelspec": {
   "display_name": "Python 3",
   "language": "python",
   "name": "python3"
  },
  "language_info": {
   "codemirror_mode": {
    "name": "ipython",
    "version": 3
   },
   "file_extension": ".py",
   "mimetype": "text/x-python",
   "name": "python",
   "nbconvert_exporter": "python",
   "pygments_lexer": "ipython3",
   "version": "3.10.5"
  }
 },
 "nbformat": 4,
 "nbformat_minor": 2
}
