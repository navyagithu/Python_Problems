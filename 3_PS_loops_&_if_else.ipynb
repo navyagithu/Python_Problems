{
 "cells": [
  {
   "cell_type": "markdown",
   "metadata": {},
   "source": [
    "#### Q1: Exercise 1: Calculate the multiplication and sum of two numbers\n",
    "Given two integer numbers, write a Python code to return their product only if the product is equal to or lower than 1000. Otherwise, return their sum.\n",
    "\n",
    "Given 1:\n",
    "\n",
    "number1 = 20 number2 = 30 Expected Output:\n",
    "\n",
    "The result is 600 \n",
    "\n",
    "Given 2:\n",
    "\n",
    "number1 = 40 number2 = 30 Expected Output:\n",
    "\n",
    "The result is 70"
   ]
  },
  {
   "cell_type": "code",
   "execution_count": 2,
   "metadata": {},
   "outputs": [
    {
     "name": "stdout",
     "output_type": "stream",
     "text": [
      "The result is 70\n"
     ]
    }
   ],
   "source": [
    "num1 = int(input(\"enter first value: \"))\n",
    "num2 = int(input(\"enter second value: \"))\n",
    "mul = num1*num2\n",
    "sum = num1+num2\n",
    "if mul>1000:\n",
    "    print(f\"The result is {sum}\")\n",
    "elif mul<=1000:\n",
    "    print(f\"The result is {mul}\")\n"
   ]
  },
  {
   "cell_type": "markdown",
   "metadata": {},
   "source": [
    "#### Q2: Exercise 2: Print the Sum of a Current Number and a Previous number\n",
    "Write a Python code to iterate the first 10 numbers, and in each iteration, print the sum of the current and previous number.\n",
    "\n",
    "Expected Output:\n",
    "\n",
    "Printing current and previous number sum in a range(10)\n",
    "\n",
    "Current Number 0 Previous Number 0 Sum: 0 \n",
    "\n",
    "Current Number 1 Previous Number 0 Sum: 1 \n",
    "\n",
    ": \n",
    "\n",
    "Current Number 8 Previous Number 7 Sum: 15 \n",
    "\n",
    "Current Number 9 Previous Number 8 Sum: 17"
   ]
  },
  {
   "cell_type": "code",
   "execution_count": 7,
   "metadata": {},
   "outputs": [
    {
     "name": "stdout",
     "output_type": "stream",
     "text": [
      "Printing current and previous number sum in a range(10)\n",
      "Current number 0 Previous number 0 Sum: 0\n",
      "Current number 1 Previous number 0 Sum: 1\n",
      "Current number 2 Previous number 1 Sum: 3\n",
      "Current number 3 Previous number 2 Sum: 5\n",
      "Current number 4 Previous number 3 Sum: 7\n",
      "Current number 5 Previous number 4 Sum: 9\n",
      "Current number 6 Previous number 5 Sum: 11\n",
      "Current number 7 Previous number 6 Sum: 13\n",
      "Current number 8 Previous number 7 Sum: 15\n",
      "Current number 9 Previous number 8 Sum: 17\n"
     ]
    }
   ],
   "source": [
    "prev_num = 0\n",
    "print(\"Printing current and previous number sum in a range(10)\")\n",
    "for i in range(10):\n",
    "    sum = i+prev_num\n",
    "    print(f\"Current number {i} Previous number {prev_num} Sum: {sum}\")\n",
    "    prev_num = i\n"
   ]
  },
  {
   "cell_type": "markdown",
   "metadata": {},
   "source": [
    "#### Exercise 3: Print characters present at an even index number¶\n",
    "Write a Python code to accept a string from the user and display characters present at an even index number.\n",
    "\n",
    "For example, str = \"PYnative\". so your code should display ‘P’, ‘n’, ‘t’, ‘v’.\n",
    "\n",
    "Expected Output:\n",
    "\n",
    "Orginal String is PYnative Printing only even index chars P n t v"
   ]
  },
  {
   "cell_type": "code",
   "execution_count": 18,
   "metadata": {},
   "outputs": [
    {
     "name": "stdout",
     "output_type": "stream",
     "text": [
      "Orginal String is PYnative Printing only even index chars\n",
      "P n t v "
     ]
    }
   ],
   "source": [
    "str = \"PYnative\"\n",
    "print(\"Orginal String is PYnative Printing only even index chars\")\n",
    "for i in range(len(str)):\n",
    "    if i%2==0:\n",
    "        print(str[i], end= \" \")"
   ]
  },
  {
   "cell_type": "markdown",
   "metadata": {},
   "source": [
    "#### Exercise 4: Remove first n characters from a string\n",
    "Write a Python code to remove characters from a string from 0 to n and return a new string.\n",
    "\n",
    "For Example:\n",
    "\n",
    "remove_chars(\"PYnative\", 4) so output must be tive. Here, you need to remove the first four characters from a string. remove_chars(\"PYnative\", 2) so output must be native. Here, you need to remove the first two characters from a string. Note: n must be less than the length of the string.\n"
   ]
  },
  {
   "cell_type": "code",
   "execution_count": 55,
   "metadata": {},
   "outputs": [],
   "source": [
    "def remove_chars(string, r_count):\n",
    "    res = string[r_count:]\n",
    "    return res\n"
   ]
  },
  {
   "cell_type": "code",
   "execution_count": 57,
   "metadata": {},
   "outputs": [
    {
     "data": {
      "text/plain": [
       "'tive'"
      ]
     },
     "execution_count": 57,
     "metadata": {},
     "output_type": "execute_result"
    }
   ],
   "source": [
    "remove_chars(\"PYnative\", 4)\n"
   ]
  },
  {
   "cell_type": "code",
   "execution_count": 58,
   "metadata": {},
   "outputs": [
    {
     "data": {
      "text/plain": [
       "'native'"
      ]
     },
     "execution_count": 58,
     "metadata": {},
     "output_type": "execute_result"
    }
   ],
   "source": [
    "remove_chars(\"PYnative\", 2)\n"
   ]
  },
  {
   "cell_type": "markdown",
   "metadata": {},
   "source": [
    "#### Exercise 5: Check if the first and last numbers of a list are the same\n",
    "Write a code to return True if the list’s first and last numbers are the same. If the numbers are different, return False.\n",
    "\n",
    "Given:\n",
    "\n",
    "numbers_x = [10, 20, 30, 40, 10] numbers_y = [75, 65, 35, 75, 30] Expected Output:\n",
    "\n",
    "Given list: [10, 20, 30, 40, 10] result is True\n",
    "\n",
    "numbers_y = [75, 65, 35, 75, 30] result is False"
   ]
  },
  {
   "cell_type": "code",
   "execution_count": 59,
   "metadata": {},
   "outputs": [
    {
     "name": "stdout",
     "output_type": "stream",
     "text": [
      "Given list: [10, 20, 30, 40, 10] result is True\n",
      "Given list: [75, 65, 35, 75, 30] result is False\n"
     ]
    }
   ],
   "source": [
    "numbers_x = [10, 20, 30, 40, 10] \n",
    "numbers_y = [75, 65, 35, 75, 30]\n",
    "if numbers_x[0] == numbers_x[-1]:\n",
    "    print(f\"Given list: {numbers_x} result is True\")\n",
    "else:\n",
    "    print(f\"Given list: {numbers_x} result is False\")\n",
    "if numbers_y[0] == numbers_y[-1]:\n",
    "    print(f\"Given list: {numbers_y} result is True\")\n",
    "else:\n",
    "    print(f\"Given list: {numbers_y} result is False\")\n",
    "\n"
   ]
  },
  {
   "cell_type": "code",
   "execution_count": 60,
   "metadata": {},
   "outputs": [
    {
     "name": "stdout",
     "output_type": "stream",
     "text": [
      "Given list: [10, 20, 30, 40, 10] result is True\n",
      "Given list: [75, 65, 35, 75, 30] result is False\n"
     ]
    }
   ],
   "source": [
    "def check_first_last(numbers):\n",
    "    if len(numbers) > 0 and numbers[0] == numbers[-1]:\n",
    "        return True\n",
    "    return False\n",
    "\n",
    "numbers_x = [10, 20, 30, 40, 10]\n",
    "numbers_y = [75, 65, 35, 75, 30]\n",
    "\n",
    "print(f\"Given list: {numbers_x} result is {check_first_last(numbers_x)}\")\n",
    "print(f\"Given list: {numbers_y} result is {check_first_last(numbers_y)}\")\n"
   ]
  },
  {
   "cell_type": "markdown",
   "metadata": {},
   "source": [
    "#### Exercise 6: Display numbers divisible by 5\n",
    "Write a Python code to display numbers from a list divisible by 5\n",
    "\n",
    "Expected Output:\n",
    "\n",
    "Given list is [10, 20, 33, 46, 55] Divisible by 5 10 20 55"
   ]
  },
  {
   "cell_type": "code",
   "execution_count": 5,
   "metadata": {},
   "outputs": [
    {
     "name": "stdout",
     "output_type": "stream",
     "text": [
      "Divisible by 5 \n",
      "10 20 55 "
     ]
    }
   ],
   "source": [
    "n = list(map(int,input(\"enter list of num: \").split()))\n",
    "print(\"Divisible by 5 \")\n",
    "for i in n:\n",
    "    if i%5==0:\n",
    "        print(i, end=\" \")"
   ]
  },
  {
   "cell_type": "markdown",
   "metadata": {},
   "source": [
    "#### Exercise 7: Find the number of occurrences of a substring in a string\n",
    "Write a Python code to find how often the substring “Emma” appears in the given string.\n",
    "\n",
    "Given:\n",
    "\n",
    "str_x = \"Emma is good developer. Emma is a writer\" Expected Output:\n",
    "\n",
    "Emma appeared 2 times"
   ]
  },
  {
   "cell_type": "code",
   "execution_count": 22,
   "metadata": {},
   "outputs": [
    {
     "name": "stdout",
     "output_type": "stream",
     "text": [
      "Emma appeared 2 times\n"
     ]
    }
   ],
   "source": [
    "str_x = \"Emma is good developer. Emma is a writer\"\n",
    "count = 0\n",
    "for i in str_x.split():\n",
    "    if i == \"Emma\":\n",
    "        count = count+1\n",
    "print(f\"Emma appeared {count} times\")\n"
   ]
  },
  {
   "cell_type": "code",
   "execution_count": 12,
   "metadata": {},
   "outputs": [
    {
     "name": "stdout",
     "output_type": "stream",
     "text": [
      "Emma\n",
      "is\n",
      "good\n",
      "developer.\n",
      "Emma\n",
      "is\n",
      "a\n",
      "writer\n"
     ]
    }
   ],
   "source": [
    "str_x = \"Emma is good developer. Emma is a writer\"\n",
    "for i in str_x.split():\n",
    "    print(i)"
   ]
  },
  {
   "cell_type": "code",
   "execution_count": 19,
   "metadata": {},
   "outputs": [
    {
     "name": "stdout",
     "output_type": "stream",
     "text": [
      "Emma is good developer. Emma is a writer\n"
     ]
    }
   ],
   "source": [
    "str_x = \"Emma is good developer. Emma is a writer\"\n",
    "str_x.split()\n",
    "print(str_x)"
   ]
  },
  {
   "cell_type": "markdown",
   "metadata": {},
   "source": []
  },
  {
   "cell_type": "markdown",
   "metadata": {},
   "source": [
    "#### Exercise 8: Print the following pattern\n",
    "1 \n",
    "\n",
    "2 2 \n",
    "\n",
    "3 3 3 \n",
    "\n",
    "4 4 4 4 \n",
    "\n",
    "5 5 5 5 5"
   ]
  },
  {
   "cell_type": "code",
   "execution_count": 25,
   "metadata": {},
   "outputs": [
    {
     "name": "stdout",
     "output_type": "stream",
     "text": [
      "1  \n",
      "2 2  \n",
      "3 3 3  \n",
      "4 4 4 4  \n",
      "5 5 5 5 5  \n"
     ]
    }
   ],
   "source": [
    "for i in range(1,6):\n",
    "    for j in range(i):\n",
    "        print(i, end = \" \")\n",
    "    print(\" \")"
   ]
  },
  {
   "cell_type": "markdown",
   "metadata": {},
   "source": [
    "#### Exercise 9: Check Palindrome Number\n",
    "Write a Python code to check if the given number is palindrome. A palindrome number is a number that is the same after reverse. For example, 545 is the palindrome number.\n",
    "\n",
    "Expected Output:\n",
    "\n",
    "original number 121 Yes. given number is palindrome number\n",
    "\n",
    "original number 125 No. given number is not palindrome number"
   ]
  },
  {
   "cell_type": "code",
   "execution_count": 45,
   "metadata": {},
   "outputs": [
    {
     "name": "stdout",
     "output_type": "stream",
     "text": [
      "1254\n",
      "4521\n",
      "original number 1254 No. given number is not palindrome number\n"
     ]
    }
   ],
   "source": [
    "n = input(\"enter :\")\n",
    "print(n)\n",
    "reverse = n[::-1]\n",
    "print(reverse)\n",
    "if n == reverse:\n",
    "    print(f'original number {n} Yes. given number is palindrome number')\n",
    "else:\n",
    "    print(f'original number {n} No. given number is not palindrome number')"
   ]
  },
  {
   "cell_type": "code",
   "execution_count": 44,
   "metadata": {},
   "outputs": [
    {
     "name": "stdout",
     "output_type": "stream",
     "text": [
      "25141\n"
     ]
    }
   ],
   "source": [
    "a = 14152\n",
    "#b = str(a)\n",
    "c = str(a)[::-1]\n",
    "print(c)"
   ]
  },
  {
   "cell_type": "code",
   "execution_count": 53,
   "metadata": {},
   "outputs": [
    {
     "name": "stdout",
     "output_type": "stream",
     "text": [
      "121\n",
      "121 is palindrum\n"
     ]
    }
   ],
   "source": [
    "n = int(input(\"enter number: \"))\n",
    "a = n\n",
    "rev=0\n",
    "while a>0:\n",
    "    r = a%10\n",
    "    rev = rev*10+r\n",
    "    a=a//10\n",
    "print(rev)\n",
    "if n == rev:\n",
    "    print(f\"{n} is palindrum\")\n",
    "else:\n",
    "    print(f\"{n} not a palindrum\")\n",
    "    "
   ]
  },
  {
   "cell_type": "code",
   "execution_count": 47,
   "metadata": {},
   "outputs": [
    {
     "data": {
      "text/plain": [
       "0"
      ]
     },
     "execution_count": 47,
     "metadata": {},
     "output_type": "execute_result"
    }
   ],
   "source": [
    "1//10"
   ]
  },
  {
   "cell_type": "markdown",
   "metadata": {},
   "source": [
    "#### Exercise 10: Merge two lists using the following condition\n",
    "Given two lists of numbers, write a Python code to create a new list such that the latest list should contain odd numbers from the first list and even numbers from the second list.\n",
    "\n",
    "Given:\n",
    "\n",
    "list1 = [10, 20, 25, 30, 35] list2 = [40, 45, 60, 75, 90] \n",
    "\n",
    "Expected Output:\n",
    "\n",
    "result list: [25, 35, 40, 60, 90]"
   ]
  },
  {
   "cell_type": "code",
   "execution_count": 56,
   "metadata": {},
   "outputs": [
    {
     "name": "stdout",
     "output_type": "stream",
     "text": [
      "[25, 35, 40, 60, 90]\n"
     ]
    }
   ],
   "source": [
    "list1 = [10, 20, 25, 30, 35]\n",
    "list2 = [40, 45, 60, 75, 90] \n",
    "main_list = []\n",
    "for i in list1:\n",
    "    if i%2!=0:\n",
    "        main_list.append(i)\n",
    "for j in list2:\n",
    "    if j%2==0:\n",
    "        main_list.append(j)\n",
    "print(main_list)\n"
   ]
  },
  {
   "cell_type": "code",
   "execution_count": null,
   "metadata": {},
   "outputs": [],
   "source": []
  }
 ],
 "metadata": {
  "kernelspec": {
   "display_name": "Python 3",
   "language": "python",
   "name": "python3"
  },
  "language_info": {
   "codemirror_mode": {
    "name": "ipython",
    "version": 3
   },
   "file_extension": ".py",
   "mimetype": "text/x-python",
   "name": "python",
   "nbconvert_exporter": "python",
   "pygments_lexer": "ipython3",
   "version": "3.10.5"
  }
 },
 "nbformat": 4,
 "nbformat_minor": 2
}
